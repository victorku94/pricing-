{
 "cells": [
  {
   "cell_type": "markdown",
   "id": "packed-information",
   "metadata": {},
   "source": [
    "This project will focus on Asian call option pricing using Monte Carlo simulations. We want to show the effect of control variate on the variance of the simulations."
   ]
  },
  {
   "cell_type": "markdown",
   "id": "opening-potential",
   "metadata": {},
   "source": [
    "# Pricing with classic Monte Carlo simulations \n"
   ]
  },
  {
   "cell_type": "markdown",
   "id": "experimental-composition",
   "metadata": {},
   "source": [
    "The payoff of an Asian option with stike $K$ is: $$ \\bigg(\\sum_{t=1}^T \\frac{S(t)}{T} - K \\bigg)^+$$ where $T$ is the maturity date and $S(t)$ the price of the underlying stock at time $t \\in [0,T]$."
   ]
  },
  {
   "cell_type": "markdown",
   "id": "bottom-fields",
   "metadata": {},
   "source": [
    "In order to simulate the price of the option, we use Black-Scholes SDE: $$ dS(t) = rS(t)dt+\\sigma S(t)dW(t) $$ where $r$ is the risk free rate and $\\sigma$ the stock volatility. We simulate paths for stock prices using this formula and compute the payoff. The price of the call at time $t=0$ is given using the martingale property : $$C_0(S,K,r,T) = e^{-rT}E_0\\bigg[\\bigg(\\sum_{t=1}^T \\frac{S(t)}{T} - K \\bigg)^+\\bigg]$$"
   ]
  },
  {
   "cell_type": "code",
   "execution_count": 114,
   "id": "convinced-mapping",
   "metadata": {},
   "outputs": [],
   "source": [
    "import numpy as np \n",
    "import matplotlib.pyplot as plt\n",
    "from scipy.stats import norm\n",
    "\n",
    "def AsianMC(T,S,K,sigma,r,NPaths,NSteps):\n",
    "    if NPaths <= 1:\n",
    "        print(\"2 sample paths are required at minimum\")\n",
    "        return\n",
    "    dt = T/NSteps\n",
    "    sqrtdt = np.sqrt(dt)\n",
    "    S_vec = S*np.ones([NSteps+1,NPaths])\n",
    "    for t in range(NSteps):\n",
    "        dW = np.random.normal(0,sqrtdt,NPaths)\n",
    "        S_vec[t+1,:] = S_vec[t,:] + r*S_vec[t,:]*dt  +  sigma * S_vec[t,:] * dW\n",
    "    S_mean = np.mean(S_vec[1:,:],axis=0) #Don't keep S0, only 1 to NSteps\n",
    "    payoff = np.maximum(S_mean - K ,0)\n",
    "    \n",
    "    pv_vec =  np.exp(-r*T) * payoff\n",
    "    pv = np.mean(pv_vec)\n",
    "    varpv = np.var(pv_vec,ddof=1)\n",
    "    i1 = pv - 1.96*np.sqrt(varpv)/np.sqrt(NPaths)\n",
    "    i2 = pv + 1.96*np.sqrt(varpv)/np.sqrt(NPaths)\n",
    "    return i1,i2,pv,pv_vec\n"
   ]
  },
  {
   "cell_type": "markdown",
   "id": "according-style",
   "metadata": {},
   "source": [
    "# Pricing with Monte Carlo with control variate "
   ]
  },
  {
   "cell_type": "markdown",
   "id": "rental-framework",
   "metadata": {},
   "source": [
    "We choose the geometric average Asian option as control variate with payoff :\n",
    "\\begin{align*}\n",
    "\\bigg[\\bigg(\\prod_{i=1}^{N}S(t_n) \\bigg)^{1/N} - K \\bigg]^+\n",
    "\\end{align*}\n",
    "where $t_N = T$ and $t_0 = 0$, $N$ is the number of steps in which we split the time to maturity. It has an analytical solution:\n",
    "\\begin{align*}\n",
    "P_{GA} &= e^{-rT}\\big[e^{a+\\frac{1}{2}b}N(x) - KN(x-\\sqrt{b})\\big]\\\\\n",
    "a &= log(S_0) + \\nu dt + \\frac{1}{2}\\nu(T-dt) \\\\\n",
    "b &= \\sigma^2 dt + \\frac{\\sigma^2 (T-dt)}{6N}(2N-1) \\\\\n",
    "\\nu &= r - \\frac{1}{2}\\sigma^2 \\\\\n",
    "x &= \\frac{a-log(K)+b}{\\sqrt{b}}\n",
    "\\end{align*}"
   ]
  },
  {
   "cell_type": "code",
   "execution_count": 115,
   "id": "muslim-setting",
   "metadata": {},
   "outputs": [],
   "source": [
    "def AnalyticalGeom(T,S,K,sigma,r,NSteps):\n",
    "    dt = T/NSteps\n",
    "    \n",
    "    v = r - 0.5*sigma**2 \n",
    "    a = np.log(S) + v*dt + 0.5*v*(T-dt)\n",
    "    b = sigma**2 * dt + (sigma**2 * (T-dt) )/(6*NSteps) * (2*NSteps -1)\n",
    "    x = (a - np.log(K) + b) / np.sqrt(b)\n",
    "    \n",
    "    price = np.exp(-r*T) * (np.exp(a + 0.5*b) * norm.cdf(x) - K * norm.cdf(x-np.sqrt(b)))\n",
    "    return price"
   ]
  },
  {
   "cell_type": "markdown",
   "id": "raised-registration",
   "metadata": {},
   "source": [
    "In the MC with CV method, the price of the Asian call option is given by:\n",
    "\\begin{align*}\n",
    "C_0(S,K,r,T) = E[X + c^* (Y - u)]\n",
    "\\end{align*}\n",
    "where $X$ is the arithmetic price, $Y$ is the geometric price and $u$ is the analytical value of the geometric price. $c^* = -\\frac{Cov(X,Y)}{Var(Y)}$"
   ]
  },
  {
   "cell_type": "markdown",
   "id": "exact-logging",
   "metadata": {},
   "source": [
    "First we need to estimate $c^*$ with a pilot Monte Carlo:"
   ]
  },
  {
   "cell_type": "code",
   "execution_count": 116,
   "id": "worse-central",
   "metadata": {},
   "outputs": [],
   "source": [
    "def MCPilot(T,S,K,sigma,r,NPaths,NSteps): \n",
    "    if NPaths <= 1:\n",
    "        print(\"2 sample paths are required at minimum\")\n",
    "        return\n",
    "    dt = T/NSteps\n",
    "    sqrtdt = np.sqrt(dt)\n",
    "    S_vec = S*np.ones([NSteps+1,NPaths])\n",
    "    for t in range(NSteps):\n",
    "        dW = np.random.normal(0,sqrtdt,NPaths)\n",
    "        S_vec[t+1,:] = S_vec[t,:] + r*S_vec[t,:]*dt  +  sigma * S_vec[t,:] * dW\n",
    "    ari_price = np.exp(-r*T)*np.maximum(np.mean(S_vec[1:,:],axis=0)-K,0)\n",
    "    geom_price = np.exp(-r*T)*np.maximum(np.exp(np.mean(np.log(S_vec[1:,:]),axis=0))-K , 0)\n",
    "    varcovar = np.cov(ari_price,geom_price)\n",
    "    return(-varcovar[0,1]/np.var(geom_price,ddof=1))"
   ]
  },
  {
   "cell_type": "markdown",
   "id": "ahead-clock",
   "metadata": {},
   "source": [
    "Then we implement the Monte Carlo simulations: "
   ]
  },
  {
   "cell_type": "code",
   "execution_count": 117,
   "id": "trained-ministry",
   "metadata": {},
   "outputs": [],
   "source": [
    "def AsianMCCV(T,S,K,sigma,r,NPaths,NSteps):\n",
    "    if NPaths <= 1:\n",
    "        print(\"2 sample paths are required at minimum\")\n",
    "        return\n",
    "    c_star = MCPilot(T,S,K,sigma,r,NPaths,NSteps)\n",
    "    geom_anal = AnalyticalGeom(T,S,K,sigma,r,NSteps)\n",
    "    \n",
    "    dt = T/NSteps\n",
    "    sqrtdt = np.sqrt(dt)\n",
    "    S_vec = S*np.ones([NSteps+1,NPaths])\n",
    "    for t in range(NSteps):\n",
    "        dW = np.random.normal(0,sqrtdt,NPaths)\n",
    "        S_vec[t+1,:] = S_vec[t,:] + r*S_vec[t,:]*dt  +  sigma * S_vec[t,:] * dW\n",
    "    ari_price = np.exp(-r*T)*np.maximum(np.mean(S_vec[1:,:],axis=0)-K,0)\n",
    "    geom_price = np.exp(-r*T)*np.maximum(np.exp(np.mean(np.log(S_vec[1:,:]),axis=0))-K , 0)\n",
    "    \n",
    "    pv_vec = ari_price + c_star * (geom_price - geom_anal)\n",
    "    varprice = np.var(pv_vec,ddof=1)\n",
    "    sigsqrtn = varprice/np.sqrt(NPaths)    \n",
    "    pv = np.mean(pv_vec)\n",
    "    i1 = pv - 1.96*sigsqrtn\n",
    "    i2=  pv + 1.96*sigsqrtn\n",
    "    return i1,i2,pv,pv_vec,c_star"
   ]
  },
  {
   "cell_type": "markdown",
   "id": "chubby-toilet",
   "metadata": {},
   "source": [
    "#  Price and variance comparison\n",
    "## Example 1"
   ]
  },
  {
   "cell_type": "markdown",
   "id": "packed-arizona",
   "metadata": {},
   "source": [
    "For the first example we set:\n",
    "\\begin{align*}\n",
    "T &= 2 \\\\\n",
    "S &= 20 \\\\\n",
    "K &= 15 \\\\\n",
    "\\sigma &= 0.3 \\\\\n",
    "r &= 0.05 \\\\\n",
    "NPaths &= 10000 \\\\ \n",
    "NSteps &= 200T\n",
    "\\end{align*}"
   ]
  },
  {
   "cell_type": "code",
   "execution_count": 118,
   "id": "caring-result",
   "metadata": {},
   "outputs": [],
   "source": [
    "T = 2\n",
    "S = 20\n",
    "K = 15\n",
    "sigma = 0.3\n",
    "r = 0.05 \n",
    "NPaths = 10000\n",
    "NSteps = 200 * T"
   ]
  },
  {
   "cell_type": "markdown",
   "id": "leading-element",
   "metadata": {},
   "source": [
    "Then we print the prices along with the 95% confidence intervals for both methods:"
   ]
  },
  {
   "cell_type": "code",
   "execution_count": 119,
   "id": "renewable-poker",
   "metadata": {},
   "outputs": [
    {
     "name": "stdout",
     "output_type": "stream",
     "text": [
      "#### Price w/o CV ####\n",
      "lower boundary:  5.476398913231674\n",
      "Higher boundary:  5.659126243941018\n",
      "Price: 5.567762578586346\n",
      "\n",
      " #### Price w/ CV ####\n",
      "lower boundary:  5.599019004403903\n",
      "Higher boundary:  5.601612146733837\n",
      "Price: 5.60031557556887\n",
      "c*:  -1.0470041522047413\n"
     ]
    }
   ],
   "source": [
    "MC = AsianMC(T,S,K,sigma,r,NPaths,NSteps)\n",
    "MC_CV = AsianMCCV(T,S,K,sigma,r,NPaths,NSteps)\n",
    "print('#### Price w/o CV ####')\n",
    "print (\"lower boundary: \",MC[0])\n",
    "print (\"Higher boundary: \",MC[1])\n",
    "print(\"Price:\",MC[2])\n",
    "\n",
    "\n",
    "print('\\n #### Price w/ CV ####')\n",
    "print (\"lower boundary: \",MC_CV[0])\n",
    "print (\"Higher boundary: \",MC_CV[1])\n",
    "print(\"Price:\",MC_CV[2])\n",
    "print(\"c*: \",MC_CV[4])"
   ]
  },
  {
   "cell_type": "markdown",
   "id": "middle-trailer",
   "metadata": {},
   "source": [
    "It is obvious that the confidence interval for MC with CV is smaller than the one without. We can explicit it by showing a graph of the distributions of the prices given by the 2 simulations. "
   ]
  },
  {
   "cell_type": "code",
   "execution_count": 120,
   "id": "silver-volleyball",
   "metadata": {},
   "outputs": [
    {
     "data": {
      "image/png": "[encoded data removed]",
      "text/plain": [
       "<Figure size 720x288 with 2 Axes>"
      ]
     },
     "metadata": {
      "needs_background": "light"
     },
     "output_type": "display_data"
    }
   ],
   "source": [
    "fig,[ax1,ax2] = plt.subplots(nrows=1, ncols=2,figsize=(10,4))\n",
    "ax1.hist(MC[3],bins = 50,color='red')\n",
    "ax1.set_xlim(0, np.max(MC[3]))\n",
    "ax1.set_title('Under classic MC method')\n",
    "ax1.set_xlabel('Price')\n",
    "ax1.set_ylabel('Frequency')\n",
    "\n",
    "ax2.hist(MC_CV[3],bins = 50,color='blue')\n",
    "ax2.set_xlim(0, np.max(MC[3]))\n",
    "ax2.set_title('Under MC with CV method')\n",
    "ax2.set_xlabel('Price')\n",
    "ax2.set_ylabel('Frequency')\n",
    "\n",
    "fig.suptitle(f'Simulated prices distribution with {NPaths} simulations')\n",
    "fig.tight_layout()\n",
    "plt.show()"
   ]
  },
  {
   "cell_type": "markdown",
   "id": "functional-protest",
   "metadata": {},
   "source": [
    "We see that the prices given by the MC with CV methods have lower variance than the prices given by classic MC."
   ]
  },
  {
   "cell_type": "markdown",
   "id": "manual-flight",
   "metadata": {},
   "source": [
    "## Example 2\n",
    "\n",
    "For the second example we set:\n",
    "\\begin{align*}\n",
    "T &= 1 \\\\\n",
    "S &= 400 \\\\\n",
    "K &= 500 \\\\\n",
    "\\sigma &= 0.3 \\\\\n",
    "r &= 0.05 \\\\\n",
    "\\end{align*}"
   ]
  },
  {
   "cell_type": "code",
   "execution_count": 121,
   "id": "theoretical-poetry",
   "metadata": {},
   "outputs": [],
   "source": [
    "T = 1\n",
    "S = 400\n",
    "K = 500\n",
    "sigma = 0.3\n",
    "r = 0.05 \n",
    "NPaths = 10000"
   ]
  },
  {
   "cell_type": "code",
   "execution_count": 123,
   "id": "musical-little",
   "metadata": {},
   "outputs": [
    {
     "name": "stdout",
     "output_type": "stream",
     "text": [
      "#### Price w/o CV ####\n",
      "lower boundary:  4.694901285666201\n",
      "Higher boundary:  5.4894295029872024\n",
      "Price: 5.092165394326702\n",
      "\n",
      " #### Price w/ CV ####\n",
      "lower boundary:  5.054990323856066\n",
      "Higher boundary:  5.176873351401479\n",
      "Price: 5.115931837628772\n",
      "c*:  -1.1270275943571109\n"
     ]
    }
   ],
   "source": [
    "MC = AsianMC(T,S,K,sigma,r,NPaths,NSteps)\n",
    "MC_CV = AsianMCCV(T,S,K,sigma,r,NPaths,NSteps)\n",
    "print('#### Price w/o CV ####')\n",
    "print (\"lower boundary: \",MC[0])\n",
    "print (\"Higher boundary: \",MC[1])\n",
    "print(\"Price:\",MC[2])\n",
    "\n",
    "\n",
    "print('\\n #### Price w/ CV ####')\n",
    "print (\"lower boundary: \",MC_CV[0])\n",
    "print (\"Higher boundary: \",MC_CV[1])\n",
    "print(\"Price:\",MC_CV[2])\n",
    "print(\"c*: \",MC_CV[4])"
   ]
  },
  {
   "cell_type": "markdown",
   "id": "infrared-multimedia",
   "metadata": {},
   "source": [
    "We used 10 000 simulations in this example and, without surprise, the 2 results are very close. The confidence interval of the Monte Carlo with CV is still smaller (by a lot). "
   ]
  }
 ],
 "metadata": {
  "kernelspec": {
   "display_name": "Python 3",
   "language": "python",
   "name": "python3"
  },
  "language_info": {
   "codemirror_mode": {
    "name": "ipython",
    "version": 3
   },
   "file_extension": ".py",
   "mimetype": "text/x-python",
   "name": "python",
   "nbconvert_exporter": "python",
   "pygments_lexer": "ipython3",
   "version": "3.8.8"
  }
 },
 "nbformat": 4,
 "nbformat_minor": 5
}
