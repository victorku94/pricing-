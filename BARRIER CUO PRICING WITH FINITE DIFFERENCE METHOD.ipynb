{
 "cells": [
  {
   "cell_type": "markdown",
   "metadata": {},
   "source": [
    "# Importing the Libraries"
   ]
  },
  {
   "cell_type": "code",
   "execution_count": 2,
   "metadata": {},
   "outputs": [],
   "source": [
    "import pandas as pd\n",
    "import numpy as np\n",
    "import random\n",
    "import math\n",
    "np.random.seed()\n",
    "import matplotlib.pyplot as plt\n",
    "from scipy import stats"
   ]
  },
  {
   "cell_type": "markdown",
   "metadata": {},
   "source": [
    "# Methods for different Questions"
   ]
  },
  {
   "cell_type": "code",
   "execution_count": 3,
   "metadata": {},
   "outputs": [],
   "source": [
    "class stock:\n",
    "    def __init__(self,s0,r,vol,maturity):\n",
    "        self.s0 = s0\n",
    "        self.r = r\n",
    "        self.vol = vol\n",
    "        self.maturity = maturity\n",
    "    \n",
    "    def FDMBarrierUpandOut(self,dt,ds,barrier,strike):\n",
    "        s_infinity = np.arange(0,barrier+2,ds)\n",
    "        NoofTimesteps = int(self.maturity/dt)\n",
    "        NoofStockprices = int(len(s_infinity))\n",
    "        FDM_grid = np.zeros((NoofTimesteps,NoofStockprices))\n",
    "        FDM_grid[len(FDM_grid)-1] = np.array(list(map(lambda x: max(x-strike,0) if x <= barrier else 0,s_infinity)))\n",
    "        for i in range(len(FDM_grid)-1)[::-1]:\n",
    "            for j in range(1,len(FDM_grid[i])-1):\n",
    "                delta = (FDM_grid[i+1][j+1]-FDM_grid[i+1][j-1])/(2*ds)\n",
    "                gamma = (FDM_grid[i+1][j+1]+FDM_grid[i+1][j-1]-(2*FDM_grid[i+1][j]))/(ds**2)\n",
    "                FDM_grid[i][j] = FDM_grid[i+1][j] - dt*((self.r*FDM_grid[i+1][j]) - (self.r*s_infinity[j]*delta) - (0.5 * self.vol**2 * s_infinity[j]**2 * gamma))\n",
    "            FDM_grid[i][0] = FDM_grid[i+1][0]*(1-self.r*dt)\n",
    "            #FDM_grid[i][-1] = 2*FDM_grid[i][-2] - FDM_grid[i][-3]\n",
    "        prices = pd.DataFrame(FDM_grid,index=np.arange(0,self.maturity,dt),columns=s_infinity)\n",
    "        return prices[self.s0][0]\n",
    "  \n",
    "    def BlackScholesCall(self,StrikePrice):\n",
    "        d1 = ((math.log((self.s0 )/ StrikePrice) + (self.r + 0.5 * self.vol ** 2) * self.maturity)\n",
    "        / (self.vol * math.sqrt(self.maturity)))\n",
    "        d2 = d1 - self.vol*(math.sqrt(self.maturity))\n",
    "        Nd1 = stats.norm.cdf(d1,0,1)\n",
    "        Nd2 = stats.norm.cdf(d2,0,1)\n",
    "        return self.s0 * Nd1 - StrikePrice * np.exp(-self.r * self.maturity) * Nd2\n",
    "    \n",
    "    def BarrierAnalytical(self,barrier,strike):\n",
    "        lamda = (self.r + ((self.vol**2)/2))/(self.vol**2)\n",
    "        y = math.log((barrier**2)/(self.s0*strike))/(self.vol*np.sqrt(self.maturity)) + lamda*self.vol*np.sqrt(self.maturity)\n",
    "        x1 = (math.log(self.s0/barrier)/(self.vol*np.sqrt(self.maturity)))+(lamda*self.vol*np.sqrt(self.maturity))\n",
    "        y1 = (math.log(barrier/self.s0)/(self.vol*np.sqrt(self.maturity)))+(lamda*self.vol*np.sqrt(self.maturity))\n",
    "        x1sigma = x1 - (self.vol*np.sqrt(self.maturity))\n",
    "        ysigma = -y + self.vol*np.sqrt(self.maturity)\n",
    "        y1sigma = -y1 + self.vol*np.sqrt(self.maturity)\n",
    "        Nx1 = stats.norm.cdf(x1,0,1)\n",
    "        Nnegy = stats.norm.cdf(-y,0,1)\n",
    "        Nnegy1 = stats.norm.cdf(-y1,0,1)\n",
    "        Nx1sigma = stats.norm.cdf(x1sigma,0,1)\n",
    "        Nysigma = stats.norm.cdf(ysigma,0,1)\n",
    "        Ny1sigma = stats.norm.cdf(y1sigma,0,1)\n",
    "        Cui = (self.s0*Nx1) - (strike*np.exp(-self.r*self.maturity)*Nx1sigma) - (self.s0*((barrier/self.s0)**(2*lamda))*(Nnegy - Nnegy1)) + (strike*np.exp(-self.r*self.maturity)*((barrier/self.s0)**(2*lamda-2))*(Nysigma - Ny1sigma))                  \n",
    "        Cuo = stock.BlackScholesCall(self,strike) - Cui\n",
    "        return Cuo"
   ]
  },
  {
   "cell_type": "markdown",
   "metadata": {},
   "source": [
    "# Question 1:\n",
    "\n",
    "Implement the analytical formula for an Up & Out call with barrier at maturity."
   ]
  },
  {
   "cell_type": "code",
   "execution_count": 8,
   "metadata": {
    "scrolled": true
   },
   "outputs": [
    {
     "data": {
      "text/plain": [
       "4.927744392408185"
      ]
     },
     "execution_count": 8,
     "metadata": {},
     "output_type": "execute_result"
    }
   ],
   "source": [
    "spot = 300\n",
    "r = 0.02\n",
    "volatility = 0.2\n",
    "maturity = 0.25\n",
    "strike = 320\n",
    "barrier = 400\n",
    "GivenStock = stock(spot,r,volatility,maturity)\n",
    "analytical_price = GivenStock.BarrierAnalytical(barrier,strike)\n",
    "analytical_price"
   ]
  },
  {
   "cell_type": "markdown",
   "metadata": {},
   "source": [
    "# Question 2\n",
    "\n",
    "Plot the graph displaying the option value with respect to the spot for a given barrier."
   ]
  },
  {
   "cell_type": "code",
   "execution_count": 203,
   "metadata": {
    "scrolled": true
   },
   "outputs": [
    {
     "data": {
      "image/png": "[encoded data removed]",
      "text/plain": [
       "<Figure size 864x288 with 1 Axes>"
      ]
     },
     "metadata": {
      "needs_background": "light"
     },
     "output_type": "display_data"
    }
   ],
   "source": [
    "SpotPrices = np.arange(10,barrier,10)\n",
    "OptionPrices = []\n",
    "for i in SpotPrices:\n",
    "    temp_stock = stock(i,r,volatility,maturity)\n",
    "    OptionPrices.append(temp_stock.BarrierAnalytical(barrier,strike))\n",
    "plt.figure(figsize=(12,4))\n",
    "plt.plot(SpotPrices,OptionPrices)\n",
    "plt.xlabel('SpotPrices')\n",
    "plt.ylabel('OptionPrice')\n",
    "plt.title('Barrier Option Price Vs Spot Price')\n",
    "plt.show()"
   ]
  },
  {
   "cell_type": "markdown",
   "metadata": {},
   "source": [
    "# Question 3\n",
    "\n",
    "Implement the pricing of the same Barrier option using an explicit PDE scheme."
   ]
  },
  {
   "cell_type": "code",
   "execution_count": 9,
   "metadata": {
    "scrolled": false
   },
   "outputs": [
    {
     "data": {
      "text/plain": [
       "4.920552012753565"
      ]
     },
     "execution_count": 9,
     "metadata": {},
     "output_type": "execute_result"
    }
   ],
   "source": [
    "dt = 0.0001\n",
    "ds = 2\n",
    "BarrierPrice_FDM = GivenStock.FDMBarrierUpandOut(dt,ds,barrier,strike)\n",
    "BarrierPrice_FDM"
   ]
  },
  {
   "cell_type": "markdown",
   "metadata": {},
   "source": [
    "# Question 4\n",
    "\n",
    "Show the numerical scheme instability when time and space dis- cretization parameters are not suitable."
   ]
  },
  {
   "cell_type": "markdown",
   "metadata": {},
   "source": [
    "One of the constraints with respect to dt is that $ dt \\leqslant 1 \\div (\\sigma^2 * (barrier/ds)^2)$. So, with $\\sigma = 0.2$, $ barrier = 400$ and $ds = 2$, dt should be less than 0.000625. To show the instability, we took dt = 0.001"
   ]
  },
  {
   "cell_type": "code",
   "execution_count": 205,
   "metadata": {},
   "outputs": [
    {
     "data": {
      "text/plain": [
       "-5.9628923870856e+55"
      ]
     },
     "execution_count": 205,
     "metadata": {},
     "output_type": "execute_result"
    }
   ],
   "source": [
    "dt = 0.001\n",
    "ds = 2\n",
    "BarrierPrice_FDM = GivenStock.FDMBarrierUpandOut(dt,ds,barrier,strike)\n",
    "BarrierPrice_FDM"
   ]
  },
  {
   "cell_type": "markdown",
   "metadata": {},
   "source": [
    "As it can be observed, the price is very abnormal"
   ]
  },
  {
   "cell_type": "markdown",
   "metadata": {},
   "source": [
    "# Question 5\n",
    "\n",
    "Show that for well chosen time and space discretization parameters, the PDE and analytical prices match."
   ]
  },
  {
   "cell_type": "markdown",
   "metadata": {},
   "source": [
    "From the above question, inorder to choose a good time and Space discretization parameters, $dt \\leqslant 0.000625$"
   ]
  },
  {
   "cell_type": "code",
   "execution_count": 207,
   "metadata": {},
   "outputs": [
    {
     "name": "stdout",
     "output_type": "stream",
     "text": [
      " Analytical Price of the Up and Out Barrier call option is 4.927744392408185\n",
      " PDE Price of the Up and Out Barrier call option is 4.920552012753565\n"
     ]
    }
   ],
   "source": [
    "dt = 0.0001\n",
    "ds = 2\n",
    "print(f' Analytical Price of the Up and Out Barrier call option is {GivenStock.BarrierAnalytical(barrier,strike)}')\n",
    "print(f' PDE Price of the Up and Out Barrier call option is {GivenStock.FDMBarrierUpandOut(dt,ds,barrier,strike)}')"
   ]
  },
  {
   "cell_type": "markdown",
   "metadata": {},
   "source": [
    "# Question 6"
   ]
  },
  {
   "cell_type": "markdown",
   "metadata": {},
   "source": [
    "Greeks for analytical price"
   ]
  },
  {
   "cell_type": "code",
   "execution_count": 208,
   "metadata": {},
   "outputs": [],
   "source": [
    "def greeksAnalytical(dt,ds,spot):\n",
    "    stock2 = stock(spot+ds,r,volatility,maturity)\n",
    "    stock1 = stock(spot-ds,r,volatility,maturity)\n",
    "    spotstock = stock(spot,r,volatility,maturity)\n",
    "    forwardstock = stock(spot,r,volatility,maturity-dt)\n",
    "    delta = (stock2.BarrierAnalytical(barrier,strike) - stock1.BarrierAnalytical(barrier,strike))/(2*ds)\n",
    "    gamma = (stock2.BarrierAnalytical(barrier,strike) + stock1.BarrierAnalytical(barrier,strike) - (2*(spotstock.BarrierAnalytical(barrier,strike))))/(2*ds)\n",
    "    Theta = (forwardstock.BarrierAnalytical(barrier,strike) - spotstock.BarrierAnalytical(barrier,strike))/(dt)         \n",
    "    return print(f'Delta,Gamma and Theta are:{(delta,gamma,Theta)}')"
   ]
  },
  {
   "cell_type": "code",
   "execution_count": 209,
   "metadata": {},
   "outputs": [
    {
     "name": "stdout",
     "output_type": "stream",
     "text": [
      "Delta,Gamma and Theta are is:(0.2587638263186498, 0.00830851586583492, -16.428731674080765)\n"
     ]
    }
   ],
   "source": [
    "greeksAnalytical(0.0001,2,300)"
   ]
  },
  {
   "cell_type": "code",
   "execution_count": 210,
   "metadata": {},
   "outputs": [],
   "source": [
    "def greeksFDM(dt,ds,spot):\n",
    "    stock2 = stock(spot+ds,r,volatility,maturity)\n",
    "    stock1 = stock(spot-ds,r,volatility,maturity)\n",
    "    spotstock = stock(spot,r,volatility,maturity)\n",
    "    forwardstock = stock(spot,r,volatility,maturity-dt)\n",
    "    delta = (stock2.FDMBarrierUpandOut(dt,ds,barrier,strike) - stock1.FDMBarrierUpandOut(dt,ds,barrier,strike))/(2*ds)\n",
    "    gamma = (stock2.FDMBarrierUpandOut(dt,ds,barrier,strike) + stock1.FDMBarrierUpandOut(dt,ds,barrier,strike) - (2*(spotstock.FDMBarrierUpandOut(dt,ds,barrier,strike))))/(2*ds)\n",
    "    Theta = (forwardstock.FDMBarrierUpandOut(dt,ds,barrier,strike) - spotstock.FDMBarrierUpandOut(dt,ds,barrier,strike))/(dt)         \n",
    "    return print(f'Delta,Gamma and Theta are:{(delta,gamma,Theta)}')"
   ]
  },
  {
   "cell_type": "code",
   "execution_count": 211,
   "metadata": {},
   "outputs": [
    {
     "name": "stdout",
     "output_type": "stream",
     "text": [
      "Delta,Gamma and Theta are is:(0.2585744806915051, 0.008318648762706715, -16.43496458496152)\n"
     ]
    }
   ],
   "source": [
    "greeksFDM(0.0001,2,300)"
   ]
  },
  {
   "cell_type": "markdown",
   "metadata": {},
   "source": [
    "Greeks from FDM and the Analytical Pricer are almost similar"
   ]
  }
 ],
 "metadata": {
  "hide_input": false,
  "kernelspec": {
   "display_name": "Python 3",
   "language": "python",
   "name": "python3"
  },
  "language_info": {
   "codemirror_mode": {
    "name": "ipython",
    "version": 3
   },
   "file_extension": ".py",
   "mimetype": "text/x-python",
   "name": "python",
   "nbconvert_exporter": "python",
   "pygments_lexer": "ipython3",
   "version": "3.8.8"
  },
  "toc": {
   "base_numbering": 1,
   "nav_menu": {},
   "number_sections": true,
   "sideBar": true,
   "skip_h1_title": false,
   "title_cell": "Table of Contents",
   "title_sidebar": "Contents",
   "toc_cell": false,
   "toc_position": {},
   "toc_section_display": true,
   "toc_window_display": false
  },
  "varInspector": {
   "cols": {
    "lenName": 16,
    "lenType": 16,
    "lenVar": 40
   },
   "kernels_config": {
    "python": {
     "delete_cmd_postfix": "",
     "delete_cmd_prefix": "del ",
     "library": "var_list.py",
     "varRefreshCmd": "print(var_dic_list())"
    },
    "r": {
     "delete_cmd_postfix": ") ",
     "delete_cmd_prefix": "rm(",
     "library": "var_list.r",
     "varRefreshCmd": "cat(var_dic_list()) "
    }
   },
   "types_to_exclude": [
    "module",
    "function",
    "builtin_function_or_method",
    "instance",
    "_Feature"
   ],
   "window_display": false
  }
 },
 "nbformat": 4,
 "nbformat_minor": 4
}
